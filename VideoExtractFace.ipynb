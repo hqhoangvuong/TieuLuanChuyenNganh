{
 "cells": [
  {
   "cell_type": "code",
   "execution_count": 1,
   "metadata": {},
   "outputs": [],
   "source": [
    "import insightface\n",
    "import urllib\n",
    "import urllib.request\n",
    "import cv2\n",
    "import json\n",
    "import numpy as np\n",
    "from matplotlib import pyplot as plt\n",
    "from sklearn.metrics.pairwise import cosine_similarity"
   ]
  },
  {
   "cell_type": "code",
   "execution_count": 2,
   "metadata": {},
   "outputs": [],
   "source": [
    "face_embeddings = []\n",
    "cosine_threshold = 0.5\n",
    "color = (0, 0, 255)\n",
    "font = cv2.FONT_HERSHEY_SIMPLEX\n",
    "ctx_id = 0"
   ]
  },
  {
   "cell_type": "code",
   "execution_count": 3,
   "metadata": {},
   "outputs": [],
   "source": [
    "cap = cv2.VideoCapture('videos/video1.mp4')"
   ]
  },
  {
   "cell_type": "code",
   "execution_count": 4,
   "metadata": {},
   "outputs": [],
   "source": [
    "frame_width = int(cap.get(3))\n",
    "frame_height = int(cap.get(4))\n",
    "size = (frame_width, frame_height)\n",
    "\n",
    "result = cv2.VideoWriter('result.avi', cv2.VideoWriter_fourcc(*'MJPG'), 10, size)"
   ]
  },
  {
   "cell_type": "code",
   "execution_count": 5,
   "metadata": {},
   "outputs": [
    {
     "name": "stdout",
     "output_type": "stream",
     "text": [
      "[32, 16, 8] {'32': {'SCALES': (32, 16), 'BASE_SIZE': 16, 'RATIOS': (1.0,), 'ALLOWED_BORDER': 9999}, '16': {'SCALES': (8, 4), 'BASE_SIZE': 16, 'RATIOS': (1.0,), 'ALLOWED_BORDER': 9999}, '8': {'SCALES': (2, 1), 'BASE_SIZE': 16, 'RATIOS': (1.0,), 'ALLOWED_BORDER': 9999}}\n",
      "use_landmarks True\n"
     ]
    }
   ],
   "source": [
    "model = insightface.app.FaceAnalysis()\n",
    "model.prepare(ctx_id = ctx_id, nms=0.4)"
   ]
  },
  {
   "cell_type": "code",
   "execution_count": 6,
   "metadata": {},
   "outputs": [],
   "source": [
    "def SaveFace(frame, face, faceNo):\n",
    "    # Write face\n",
    "    bbox = face.bbox.astype(np.int).flatten()\n",
    "    cropped_face = frame[bbox[1] - 20:bbox[3] + 20, bbox[0] - 20:bbox[2] + 20]\n",
    "    status = cv2.imwrite('detectedfaces/FaceNo' + str(faceNo) + '.png', cropped_face)\n",
    "    # print('Face No.' + str(faceNo) + ' is written to file-system :', status)\n",
    "    \n",
    "    # Add face data to json dataset\n",
    "    data = {'faceNo': str(faceNo), \n",
    "            'embeddingVal': str(face.embedding),\n",
    "            'bbox': str(bbox),\n",
    "            'landmark': str(face.landmark.astype(np.int).flatten())\n",
    "           }\n",
    "    \n",
    "    return data"
   ]
  },
  {
   "cell_type": "code",
   "execution_count": 7,
   "metadata": {},
   "outputs": [],
   "source": [
    "# Write json file\n",
    "def write_json(data, filename='data.json'): \n",
    "    with open(filename,'w') as f: \n",
    "        json.dump(data, f, indent=4)"
   ]
  },
  {
   "cell_type": "code",
   "execution_count": null,
   "metadata": {
    "scrolled": true,
    "slideshow": {
     "slide_type": "slide"
    }
   },
   "outputs": [],
   "source": [
    "# Extract face and it's information in the input video\n",
    "faceNo = 0\n",
    "frameNo = 0\n",
    "jsonData = []\n",
    "\n",
    "while(True):\n",
    "    ret, frame = cap.read()\n",
    "    nimg = frame\n",
    "    \n",
    "    faces = model.get(nimg)\n",
    "    for idx, face in enumerate(faces):\n",
    "        bbox = face.bbox.astype(np.int).flatten()\n",
    "        face_json_data = SaveFace(nimg, face, faceNo)\n",
    "        jsonData.append(face_json_data)\n",
    "        write_json(jsonData)\n",
    "        \n",
    "        faceNo += 1\n",
    "        \n",
    "    print('Frame No:' + str(frameNo) + '. Number of detected face: ' + str(faceNo))\n",
    "    frameNo += 1"
   ]
  },
  {
   "cell_type": "code",
   "execution_count": null,
   "metadata": {},
   "outputs": [],
   "source": [
    "# Save video with face detection and tagged id per face\n",
    "while(True):\n",
    "    frameNo += 1\n",
    "    ret, frame = cap.read()\n",
    "    nimg = frame\n",
    "    \n",
    "    faces = model.get(nimg)\n",
    "    for idx, face in enumerate(faces):\n",
    "        bbox = face.bbox.astype(np.int).flatten()\n",
    "        cosine_dist, face_id = MaxCosineSimilarity(face.embedding, face_embeddings)\n",
    "        \n",
    "        cv2.rectangle(nimg, (bbox[0] - 20, bbox[1] - 20), (bbox[2] + 20, bbox[3] + 20), color, 2)\n",
    "        \n",
    "        if cosine_dist < cosine_threshold:\n",
    "            face_embeddings.append(face.embedding)\n",
    "            faceNo += 1\n",
    "            cv2.putText(nimg, str(faceNo), (bbox[0] - 5, bbox[1] - 5), font, 1.2, (0, 0, 255), 2, cv2.LINE_AA)\n",
    "        else:\n",
    "            cv2.putText(nimg, str(face_id), (bbox[0] - 5, bbox[1] - 5), font, 1.2, (0, 0, 255), 2, cv2.LINE_AA)\n",
    "            \n",
    "    print('frame No:' + str(frameNo) + '. Number of detected face: ' + str(faceNo))\n",
    "    cv2.putText(nimg, 'Total face detected: ' + str(faceNo), (30, 30), font, 1.2, (0, 0, 255), 2, cv2.LINE_AA)\n",
    "    \n",
    "    # cv2.imwrite('frames/frameNo' + str(frameNo) + '.png', nimg)\n",
    "    result.write(nimg)\n",
    "    clear_output(wait=True)\n",
    "cap.release()\n",
    "result.release()"
   ]
  }
 ],
 "metadata": {
  "kernelspec": {
   "display_name": "Python 3",
   "language": "python",
   "name": "python3"
  },
  "language_info": {
   "codemirror_mode": {
    "name": "ipython",
    "version": 3
   },
   "file_extension": ".py",
   "mimetype": "text/x-python",
   "name": "python",
   "nbconvert_exporter": "python",
   "pygments_lexer": "ipython3",
   "version": "3.6.9"
  }
 },
 "nbformat": 4,
 "nbformat_minor": 4
}
