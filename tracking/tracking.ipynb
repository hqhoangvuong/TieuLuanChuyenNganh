{
 "cells": [
  {
   "cell_type": "code",
   "execution_count": 1,
   "metadata": {},
   "outputs": [],
   "source": [
    "from imutils.video import VideoStream\n",
    "from imutils.video import FPS\n",
    "from IPython.display import clear_output\n",
    "import argparse\n",
    "import imutils\n",
    "import time\n",
    "import cv2\n",
    "import numpy as np\n",
    "import matplotlib.pyplot as plt"
   ]
  },
  {
   "cell_type": "code",
   "execution_count": 39,
   "metadata": {},
   "outputs": [],
   "source": [
    "cap = cv2.VideoCapture('video1.mp4')"
   ]
  },
  {
   "cell_type": "code",
   "execution_count": 40,
   "metadata": {},
   "outputs": [
    {
     "name": "stdout",
     "output_type": "stream",
     "text": [
      "4 4\n"
     ]
    }
   ],
   "source": [
    "(major, minor) = cv2.__version__.split(\".\")[:2]\n",
    "print(major, minor)\n",
    "\n",
    "frame_width = int(cap.get(3))\n",
    "frame_height = int(cap.get(4))\n",
    "size = (frame_width, frame_height)\n",
    "!rm -f face_tracker.avi\n",
    "\n",
    "result = cv2.VideoWriter('face_tracker.avi', cv2.VideoWriter_fourcc(*'MJPG'), 10, size)"
   ]
  },
  {
   "cell_type": "code",
   "execution_count": 41,
   "metadata": {},
   "outputs": [],
   "source": [
    "OPENCV_OBJECT_TRACKERS = {\n",
    "    \"csrt\": cv2.TrackerCSRT_create,\n",
    "    \"kcf\": cv2.TrackerKCF_create,\n",
    "    \"boosting\": cv2.TrackerBoosting_create,\n",
    "    \"mil\": cv2.TrackerMIL_create,\n",
    "    \"tld\": cv2.TrackerTLD_create,\n",
    "    \"medianflow\": cv2.TrackerMedianFlow_create,\n",
    "    \"mosse\": cv2.TrackerMOSSE_create\n",
    "}\n",
    "\n",
    "tracker_method = \"mosse\"\n",
    "\n",
    "tracker = OPENCV_OBJECT_TRACKERS[tracker_method]()\n",
    "\n",
    "fps = None\n",
    "initBB = None"
   ]
  },
  {
   "cell_type": "code",
   "execution_count": 42,
   "metadata": {
    "scrolled": true
   },
   "outputs": [
    {
     "name": "stdout",
     "output_type": "stream",
     "text": [
      "1775\n"
     ]
    },
    {
     "ename": "KeyboardInterrupt",
     "evalue": "",
     "output_type": "error",
     "traceback": [
      "\u001b[0;31m---------------------------------------------------------------------------\u001b[0m",
      "\u001b[0;31mKeyboardInterrupt\u001b[0m                         Traceback (most recent call last)",
      "\u001b[0;32m<ipython-input-42-a96514f5ed57>\u001b[0m in \u001b[0;36m<module>\u001b[0;34m\u001b[0m\n\u001b[1;32m     37\u001b[0m \u001b[0;34m\u001b[0m\u001b[0m\n\u001b[1;32m     38\u001b[0m     \u001b[0;31m# show the output frame\u001b[0m\u001b[0;34m\u001b[0m\u001b[0;34m\u001b[0m\u001b[0;34m\u001b[0m\u001b[0m\n\u001b[0;32m---> 39\u001b[0;31m     \u001b[0mresult\u001b[0m\u001b[0;34m.\u001b[0m\u001b[0mwrite\u001b[0m\u001b[0;34m(\u001b[0m\u001b[0mframe\u001b[0m\u001b[0;34m)\u001b[0m\u001b[0;34m\u001b[0m\u001b[0;34m\u001b[0m\u001b[0m\n\u001b[0m\u001b[1;32m     40\u001b[0m \u001b[0;34m\u001b[0m\u001b[0m\n\u001b[1;32m     41\u001b[0m         \u001b[0;31m# if the 's' key is selected, we are going to \"select\" a bounding\u001b[0m\u001b[0;34m\u001b[0m\u001b[0;34m\u001b[0m\u001b[0;34m\u001b[0m\u001b[0m\n",
      "\u001b[0;31mKeyboardInterrupt\u001b[0m: "
     ]
    }
   ],
   "source": [
    "first_run = True\n",
    "frame_no = 0\n",
    "while True:\n",
    "\t# grab the current frame, then handle if we are using a\n",
    "\t# VideoStream or VideoCapture object\n",
    "    ret, frame = cap.read()\n",
    "    if ret is False:\n",
    "        break\n",
    "    \n",
    "    print(frame_no)\n",
    "    \n",
    "    (H, W) = frame.shape[:2]\n",
    "    \n",
    "    # check to see if we are currently tracking an object\n",
    "    if initBB is not None:\n",
    "\t\t# grab the new bounding box coordinates of the object\n",
    "        (success, box) = tracker.update(frame)\n",
    "\t\t# check to see if the tracking was a success\n",
    "        if success:\n",
    "            (x, y, w, h) = [int(v) for v in box]\n",
    "            cv2.rectangle(frame, (x, y), (x + w, y + h), (0, 255, 0), 2)\n",
    "\t\t# update the FPS counter\n",
    "        fps.update()\n",
    "        fps.stop()\n",
    "\t\t# initialize the set of information we'll be displaying on\n",
    "\t\t# the frame\n",
    "        info = [\n",
    "\t\t\t(\"Tracker\", tracker_method),\n",
    "\t\t\t(\"Success\", \"Yes\" if success else \"No\"),\n",
    "\t\t\t(\"FPS\", \"{:.2f}\".format(fps.fps())),\n",
    "        ]\n",
    "\t\t# loop over the info tuples and draw them on our frame\n",
    "        for (i, (k, v)) in enumerate(info):\n",
    "            text = \"{}: {}\".format(k, v)\n",
    "            cv2.putText(frame, text, (10, H - ((i * 20) + 20)),\n",
    "                        cv2.FONT_HERSHEY_SIMPLEX, 0.6, (0, 0, 255), 2)\n",
    "            \n",
    "    # show the output frame\n",
    "    result.write(frame)\n",
    "    \n",
    "\t# if the 's' key is selected, we are going to \"select\" a bounding\n",
    "\t# box to track\n",
    "    if first_run:\n",
    "\t\t# select the bounding box of the object we want to track (make\n",
    "\t\t# sure you press ENTER or SPACE after selecting the ROI)\n",
    "        initBB = (1265, 188, 44, 50)\n",
    "\t\t# start OpenCV object tracker using the supplied bounding box\n",
    "\t\t# coordinates, then start the FPS throughput estimator as well\n",
    "        tracker.init(frame, initBB)\n",
    "        fps = FPS().start()\n",
    "    frame_no += 1\n",
    "    clear_output(wait = True)\n",
    "cap.release()"
   ]
  },
  {
   "cell_type": "code",
   "execution_count": null,
   "metadata": {},
   "outputs": [],
   "source": []
  }
 ],
 "metadata": {
  "kernelspec": {
   "display_name": "Python 3",
   "language": "python",
   "name": "python3"
  },
  "language_info": {
   "codemirror_mode": {
    "name": "ipython",
    "version": 3
   },
   "file_extension": ".py",
   "mimetype": "text/x-python",
   "name": "python",
   "nbconvert_exporter": "python",
   "pygments_lexer": "ipython3",
   "version": "3.6.9"
  }
 },
 "nbformat": 4,
 "nbformat_minor": 4
}
