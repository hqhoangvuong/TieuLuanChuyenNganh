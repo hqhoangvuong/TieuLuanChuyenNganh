{
 "cells": [
  {
   "cell_type": "code",
   "execution_count": 22,
   "metadata": {},
   "outputs": [],
   "source": [
    "import insightface\n",
    "import cv2\n",
    "import numpy as np\n",
    "from matplotlib import pyplot as plt\n",
    "from IPython.display import clear_output\n",
    "from sklearn.metrics.pairwise import cosine_similarity\n",
    "from scipy import linalg\n",
    "import math\n",
    "import os"
   ]
  },
  {
   "cell_type": "code",
   "execution_count": 13,
   "metadata": {},
   "outputs": [],
   "source": [
    "cosine_threshold = 0.4\n",
    "color = (0, 0, 255)\n",
    "ctx_id = 0\n",
    "font = cv2.FONT_HERSHEY_SIMPLEX\n",
    "\n",
    "interest_zone_bbox = [(681, 225), (1318, 823)]"
   ]
  },
  {
   "cell_type": "code",
   "execution_count": 23,
   "metadata": {},
   "outputs": [],
   "source": [
    "cap = cv2.VideoCapture('videos/video1.mp4')\n",
    "\n",
    "frame_width = int(cap.get(3))\n",
    "frame_height = int(cap.get(4))\n",
    "size = (frame_width, frame_height)\n",
    "\n",
    "!rm -f head_pose_tracking.avi\n",
    "!rm -f head_pose_tracking.mp4\n",
    "result = cv2.VideoWriter('head_pose_tracking.avi', cv2.VideoWriter_fourcc(*'MJPG'), 10, size)"
   ]
  },
  {
   "cell_type": "code",
   "execution_count": 15,
   "metadata": {},
   "outputs": [
    {
     "name": "stdout",
     "output_type": "stream",
     "text": [
      "[32, 16, 8] {'32': {'SCALES': (32, 16), 'BASE_SIZE': 16, 'RATIOS': (1.0,), 'ALLOWED_BORDER': 9999}, '16': {'SCALES': (8, 4), 'BASE_SIZE': 16, 'RATIOS': (1.0,), 'ALLOWED_BORDER': 9999}, '8': {'SCALES': (2, 1), 'BASE_SIZE': 16, 'RATIOS': (1.0,), 'ALLOWED_BORDER': 9999}}\n",
      "use_landmarks True\n"
     ]
    }
   ],
   "source": [
    "model = insightface.app.FaceAnalysis()\n",
    "model.prepare(ctx_id = ctx_id, nms=0.4)"
   ]
  },
  {
   "cell_type": "code",
   "execution_count": 16,
   "metadata": {},
   "outputs": [],
   "source": [
    "def is_rotation_matrix(R) :\n",
    "    Rt = np.transpose(R)\n",
    "    shouldBeIdentity = np.dot(Rt, R)\n",
    "    I = np.identity(3, dtype = R.dtype)\n",
    "    n = np.linalg.norm(I - shouldBeIdentity)\n",
    "    return n < 1e-6\n",
    "\n",
    "def rotation_vector_to_euler_angles(rotation_vector) :\n",
    "    R, _ = cv2.Rodrigues(rotation_vector)\n",
    "    \n",
    "    if not is_rotation_matrix(R):\n",
    "        return\n",
    "    \n",
    "    sy = math.sqrt(R[0,0] * R[0,0] +  R[1,0] * R[1,0])\n",
    "    singular = sy < 1e-6\n",
    "\n",
    "    if  not singular :\n",
    "        x = math.atan2(R[2,1] , R[2,2])\n",
    "        y = math.atan2(-R[2,0], sy)\n",
    "        z = math.atan2(R[1,0], R[0,0])\n",
    "    else :\n",
    "        x = math.atan2(-R[1,2], R[1,1])\n",
    "        y = math.atan2(-R[2,0], sy)\n",
    "        z = 0\n",
    "\n",
    "    return np.rad2deg(np.array([x, y, z]))"
   ]
  },
  {
   "cell_type": "code",
   "execution_count": 17,
   "metadata": {},
   "outputs": [],
   "source": [
    "def chin_calc(bbox, fivepointlandmarks):\n",
    "    p1 = np.asarray([bbox[2], bbox[3]])\n",
    "    p2 = np.asarray([bbox[0], bbox[3]])\n",
    "    p3 = np.asarray([int((fivepointlandmarks[6] + fivepointlandmarks[8]) / 2), int((fivepointlandmarks[7] + fivepointlandmarks[9]) / 2)])\n",
    "    chindistfromp3 = int(linalg.norm(np.cross(p2 - p1, p1 - p3)) / linalg.norm(p2 - p1))\n",
    "    chin = [p3[0], p3[1] + chindistfromp3]\n",
    "\n",
    "    # Return a 2-D point represent for the chin of the given face\n",
    "    return chin\n",
    "\n",
    "def six_point_of_landmarks(bbox, fivepointlandmarks):\n",
    "    pchin = chin_calc(bbox, fivepointlandmarks)\n",
    "\n",
    "    image_points = np.array([\n",
    "                            (fivepointlandmarks[4], fivepointlandmarks[5]),     # Nose tip\n",
    "                            (pchin[0], pchin[1])                          ,     # Chin\n",
    "                            (fivepointlandmarks[0], fivepointlandmarks[1]),     # Left eye left corner\n",
    "                            (fivepointlandmarks[2], fivepointlandmarks[3]),     # Right eye right corne\n",
    "                            (fivepointlandmarks[6], fivepointlandmarks[7]),     # Left Mouth corner\n",
    "                            (fivepointlandmarks[8], fivepointlandmarks[9])      # Right mouth corner\n",
    "                        ], dtype=\"double\")\n",
    "    return image_points\n",
    "\n",
    "def est_head_pose(face, imsize):\n",
    "    bbox = face.bbox.astype(np.int).flatten()\n",
    "    fivepointlandmarks = face.landmark.astype(np.int).flatten()\n",
    "    image_points = six_point_of_landmarks(bbox, fivepointlandmarks)\n",
    "\n",
    "    # 3D model points. \n",
    "    model_points = np.array([\n",
    "                                (0.0, 0.0, 0.0),             # Nose tip\n",
    "                                (0.0, -330.0, -65.0),        # Chin\n",
    "                                (-210.0, 170.0, -135.0),     # Left eye left corner\n",
    "                                (210.0, 170.0, -135.0),      # Right eye right corne\n",
    "                                (-150.0, -150.0, -125.0),    # Left Mouth corner\n",
    "                                (150.0, -150.0, -125.0)      # Right mouth corner\n",
    "                            ])\n",
    "    \n",
    "    # Camera internals\n",
    "    focal_length = imsize[1]\n",
    "    center = (imsize[1]/2, imsize[0]/2)\n",
    "    camera_matrix = np.array(\n",
    "                            [[focal_length, 0, center[0]],\n",
    "                            [0, focal_length, center[1]],\n",
    "                            [0, 0, 1]], dtype = \"double\"\n",
    "                            )\n",
    "    \n",
    "    dist_coeffs = np.zeros((4,1)) # Assuming no lens distortion\n",
    "    (success, rotation_vector, translation_vector) = cv2.solvePnP(model_points, \n",
    "                                                                  image_points, \n",
    "                                                                  camera_matrix, \n",
    "                                                                  dist_coeffs, \n",
    "                                                                  flags=cv2.cv2.SOLVEPNP_ITERATIVE)\n",
    "    (nose_end_point2D, jacobian) = cv2.projectPoints(np.array([(0.0, 0.0, 1000.0)]), \n",
    "                                                                rotation_vector, \n",
    "                                                                translation_vector, \n",
    "                                                                camera_matrix, \n",
    "                                                                dist_coeffs)\n",
    "\n",
    "    p1 = (int(image_points[0][0]), int(image_points[0][1]))\n",
    "    p2 = (int(nose_end_point2D[0][0][0]), int(nose_end_point2D[0][0][1]))\n",
    "    \n",
    "    euler_angles = rotation_vector_to_euler_angles(rotation_vector)\n",
    "\n",
    "    # return a line that point out the current pose of the head\n",
    "    return p1, p2, bbox, euler_angles"
   ]
  },
  {
   "cell_type": "code",
   "execution_count": 18,
   "metadata": {},
   "outputs": [],
   "source": [
    "def face_filter(raw_euler_angles):\n",
    "    roll = False\n",
    "    pitch = False\n",
    "    yaw = False\n",
    "    \n",
    "    euler_angles = np.absolute(raw_euler_angles.astype(int))\n",
    "    \n",
    "    if (170 <= euler_angles[0] and euler_angles[0] <= 180):\n",
    "        roll = True\n",
    "    if (170 <= euler_angles[2] and euler_angles[2] <= 180):\n",
    "        yaw = True\n",
    "    if 35 <= euler_angles[1] and euler_angles[1] <= 50:\n",
    "        pitch = True\n",
    "        \n",
    "    return roll and pitch and yaw"
   ]
  },
  {
   "cell_type": "code",
   "execution_count": 19,
   "metadata": {},
   "outputs": [],
   "source": [
    "def check_point_in_rect(rect, points):\n",
    "    # rect[0] = top left point of the rectangle, rect[1] = bottom right of the rectangle \n",
    "    top_left, bottom_right = rect[0], rect[1]\n",
    "    \n",
    "    for point in points:\n",
    "        x_bound = top_left[0] <= point[0] and bottom_right[0] >= point[0]\n",
    "        y_bound = top_left[1] <= point[1] and bottom_right[1] >= point[1]\n",
    "        if not (x_bound and y_bound):\n",
    "            return False\n",
    "    return True"
   ]
  },
  {
   "cell_type": "code",
   "execution_count": 24,
   "metadata": {},
   "outputs": [],
   "source": [
    "face_list = []\n",
    "dist_threshold = .5\n",
    "def face_tagger(face_vector):\n",
    "    if not face_list:\n",
    "        face_list.append(face_vector)\n",
    "        return 0\n",
    "    \n",
    "    max_index = -1\n",
    "    max_dist = -1\n",
    "    for i in range(len(face_list)):\n",
    "        current_dist = cosine_similarity([face_list[i]], [face_vector])[0]\n",
    "        if current_dist > max_dist:\n",
    "            max_dist = current_dist\n",
    "            max_index = i\n",
    "            \n",
    "    if max_dist >= dist_threshold:\n",
    "        return max_index\n",
    "    else:\n",
    "        face_list.append(face_vector)\n",
    "        return len(face_list)"
   ]
  },
  {
   "cell_type": "code",
   "execution_count": 25,
   "metadata": {},
   "outputs": [
    {
     "name": "stdout",
     "output_type": "stream",
     "text": [
      "369\n"
     ]
    },
    {
     "ename": "ValueError",
     "evalue": "Expected 2D array, got 1D array instead:\narray=[-3.26959223e-01  6.87067747e-01  3.94089550e-01  5.07947132e-02\n -8.35412621e-01  1.02034599e-01  3.81974697e-01 -7.08948225e-02\n  8.69914949e-01  2.36705437e-01 -3.38939130e-01 -5.28084457e-01\n -4.79741991e-01  1.78914309e-01  1.04542829e-01 -7.23256394e-02\n -5.93884587e-01  4.03793544e-01 -3.43498170e-01 -1.59600854e-01\n -3.20078939e-01  1.83209285e-01 -1.98669076e-01  1.06141180e-01\n -1.97738469e-01  4.51026201e-01 -4.59874988e-01 -8.36340934e-02\n  5.84345162e-01 -2.97379166e-01  2.01182544e-01 -6.55476391e-01\n -4.59255069e-01  2.14174941e-01  1.56605095e-01  1.00872684e+00\n -3.85751247e-01  5.80046594e-01  1.39400721e-01 -2.27422282e-01\n -5.97222388e-01 -9.63216126e-02 -2.49296844e-01  1.86820582e-01\n  3.20102215e-01  1.04161784e-01 -2.70198405e-01  2.91778654e-01\n  5.56108132e-02 -6.93405345e-02 -3.39203745e-01 -7.37273574e-01\n  6.25839755e-02  5.24970114e-01 -4.07205880e-01  1.44179896e-01\n -3.68606597e-01  3.49231333e-01 -4.00490239e-02  1.87667370e-01\n  4.19825852e-01  6.88410938e-01 -1.25888139e-02 -1.93255723e-01\n  8.80825758e-01 -4.32428271e-01  3.78817469e-01  8.36760998e-01\n -9.67983678e-02 -6.29838631e-02 -4.15896535e-01 -4.89311785e-01\n -6.72813058e-02  5.89510687e-02  5.27677476e-01  2.77471334e-01\n -1.01485308e-02 -3.17952245e-01 -6.78982854e-01  2.40756020e-01\n -3.27902853e-01  1.92425385e-01  1.43842816e-01 -1.01324745e-01\n  1.88522384e-01 -6.52445376e-01  8.08896720e-01 -2.84942333e-02\n -5.12340128e-01 -4.03740019e-01  1.05429745e+00 -2.73414105e-02\n -5.75980365e-01 -2.95854270e-01  2.31648043e-01  2.54709691e-01\n  6.11182768e-05  4.87315774e-01  1.84873611e-01 -3.66242796e-01\n -2.13123083e-01  7.54595637e-01  6.03180587e-01 -2.96700418e-01\n  5.09091616e-01  1.71580672e-01  2.93871969e-01 -5.31977832e-01\n -1.77683786e-01 -1.08595407e+00  1.50141835e-01 -7.34970331e-01\n -4.70043123e-01 -1.12872899e+00  1.57073945e-01  3.75257164e-01\n  4.08024371e-01 -2.57295698e-01 -9.48363483e-01 -5.13862371e-02\n -2.44669225e-02  2.92110801e-01  1.03052512e-01 -8.33430052e-01\n -2.86211133e-01  2.35815942e-01 -1.39930159e-01  7.09060729e-02\n  7.22491682e-01 -4.55495536e-01  7.86959827e-02 -1.67359188e-01\n -3.41600031e-01 -2.08922639e-01 -4.22736332e-02  4.00735170e-01\n  5.45291901e-01  3.17239434e-01  1.14953443e-02 -2.20971033e-01\n  7.36840844e-01  4.82712686e-01 -1.06957458e-01  3.93335015e-01\n -2.21761331e-01 -1.76823705e-01 -1.03897917e+00  2.47459128e-01\n  8.35444629e-02 -3.34997058e-01  1.08433142e-01 -4.32697028e-01\n  3.84520292e-01 -3.79109353e-01 -3.09461713e-01  1.90438569e-01\n -9.62791741e-02 -3.73806685e-01  8.97506550e-02  5.33467591e-01\n -1.94639266e-01 -3.84057730e-01  1.15403414e-01  6.93939447e-01\n  1.70076877e-01  4.35431629e-01  4.02396284e-02 -5.01656711e-01\n -4.60564911e-01 -3.80505562e-01  4.52845663e-01  7.65099600e-02\n -5.96811116e-01  5.36664784e-01  9.66875907e-03  8.59812081e-01\n  8.68232071e-01 -5.02271811e-03  4.60584313e-01  9.16057378e-02\n  3.48128974e-01  6.69874191e-01  8.72535348e-01 -8.88809636e-02\n  5.06916285e-01  2.71538317e-01  9.48601067e-02 -2.92652100e-01\n -2.05378950e-01 -8.80359765e-03  5.48990779e-02  1.04518242e-01\n -1.22570626e-01 -3.14841680e-02 -1.70155734e-01  9.52586159e-02\n -5.88455915e-01 -2.24149421e-01 -2.97935516e-01  8.06109965e-01\n -5.29772103e-01 -1.33462563e-01  3.35137367e-01  4.93270397e-01\n  4.40145791e-01 -1.55119672e-01 -5.49188852e-02  5.42491414e-02\n -5.60355894e-02  2.80718297e-01  2.02424049e-01  1.96505591e-01\n -4.23028558e-01  5.87593531e-04  2.90967584e-01 -1.12044429e-02\n  5.68620205e-01 -2.35147059e-01  6.22026682e-01 -1.33832961e-01\n -2.98580796e-01  1.95547894e-01  1.54412508e-01  6.66020632e-01\n -5.31499088e-01  5.62551796e-01 -1.38287246e-01  3.54218543e-01\n  5.65961540e-01  5.02175212e-01 -3.07149857e-01  9.10722166e-02\n -4.88771737e-01 -1.66326344e-01 -1.77536637e-01 -2.12416664e-01\n  3.98111880e-01  8.00064206e-01  1.85241941e-02  3.56049180e-01\n  5.59621342e-02 -6.94940463e-02 -9.35467239e-03 -3.87111694e-01\n -4.61492807e-01  2.36544654e-01 -2.08553702e-01  1.49814934e-02\n -3.44915807e-01 -8.95205915e-01  6.29191697e-01 -1.68307826e-01\n -1.78060532e-01  4.08003032e-01  1.67429447e-01  3.04823637e-01\n  3.03311437e-01  6.26028478e-01 -7.11185396e-01 -1.50797084e-01\n -6.09273076e-01 -8.09176207e-01 -2.25635618e-02 -2.82199293e-01\n -4.60251659e-01 -1.82287022e-01 -2.73746431e-01 -5.15109658e-01\n  5.18101119e-02 -6.01964772e-01 -8.94079208e-01 -6.87950253e-01\n -6.55215800e-01  3.10265869e-01  8.15058351e-01 -1.73714519e-01\n -3.06748629e-01  3.19610476e-01 -4.15417522e-01  1.33838862e-01\n  1.02587398e-02  1.50890723e-01 -7.02023983e-01  3.91185850e-01\n -1.54731125e-01 -4.71874088e-01 -4.20694113e-01  2.96153724e-01\n  1.35620669e-01 -8.72317314e-01  1.08059622e-01 -1.96983472e-01\n -3.10052365e-01  1.25030339e-01  3.83800179e-01 -9.79071558e-01\n -3.48903030e-01 -5.90558946e-02 -5.29179834e-02 -2.10433885e-01\n -6.40978456e-01 -8.78105685e-02 -1.22279644e-01  5.47759891e-01\n  4.55172598e-01 -1.37060478e-01 -3.44934762e-01 -4.13204908e-01\n  1.64060518e-01  1.46214306e-01 -7.16974616e-01  3.32849659e-02\n  2.07880795e-01  6.35644495e-02  1.78102806e-01  8.29911679e-02\n  5.16767979e-01  2.51488775e-01  4.53262538e-01 -4.32105362e-01\n  2.59577334e-01  2.49915868e-01 -7.57004023e-01  5.36344111e-01\n -2.42536247e-01  2.81803071e-01 -3.86838794e-01 -4.78790581e-01\n -2.81407505e-01 -3.69491637e-01  3.27463418e-01  6.00376368e-01\n -4.23680954e-02 -4.25966233e-01  2.17845976e-01 -2.47330472e-01\n  6.72895491e-01  6.07393123e-02 -3.80006701e-01  8.47223178e-02\n  1.27095893e-01  3.27747196e-01  3.61113660e-02 -5.68790853e-01\n  7.30562270e-01  4.51788187e-01 -8.45931098e-02 -1.81769401e-01\n  2.75973678e-01  5.99102564e-02 -2.39419624e-01 -8.27543736e-02\n  2.91622896e-03  8.46924722e-01 -3.14581394e-01 -1.46311611e-01\n -5.59147656e-01 -1.41026855e-01 -8.21676776e-02 -8.25035155e-01\n  1.00396132e+00  9.98832762e-01 -8.19772840e-01  2.25207210e-01\n -3.46940100e-01  1.21355675e-01 -2.52120912e-01 -4.53706801e-01\n -2.02400640e-01 -9.03479695e-01  3.36168587e-01 -1.27268553e+00\n -3.35218698e-01  1.92204192e-01 -9.00273472e-02 -2.89821386e-01\n -2.86496997e-01 -3.85894090e-01 -6.30625039e-02  4.18453723e-01\n  7.22353041e-01  3.02699000e-01 -1.44155055e-01 -8.81472349e-01\n  8.87165248e-01  1.89533681e-02  5.86667396e-02 -1.62428901e-01\n  2.08175123e-01  4.14083540e-01  2.13944942e-01 -1.52230948e-01\n -4.42003757e-01 -3.18937182e-01  4.93628485e-03 -4.53038990e-01\n -2.73245692e-01  3.94041270e-01 -3.41124266e-01 -4.24364209e-01\n -4.33959752e-01  1.87853336e-01  1.43931106e-01 -8.14782828e-02\n -1.98317319e-01  3.80352348e-01 -5.84630556e-02  6.51288182e-02\n  5.74471414e-01  3.68679971e-01  5.42735338e-01  4.10263836e-01\n -7.29897916e-01 -1.51936725e-01  9.55614746e-02 -4.70479101e-01\n  1.63375303e-01 -7.87797511e-01  2.98915356e-01 -3.67889762e-01\n  1.07431851e-01  5.28297961e-01 -3.12954485e-01 -8.90762627e-01\n -5.48863530e-01  1.63915828e-01 -5.06192207e-01  6.92841783e-03\n -3.43746334e-01  3.48277301e-01  2.35230699e-01  7.15842620e-02\n  1.47712439e-01 -3.29930991e-01  3.32259923e-01  3.16989683e-02\n  1.39016002e-01 -1.62509367e-01 -1.97512329e-01 -8.67248654e-01\n  9.80147570e-02  4.47597384e-01 -3.90705228e-01  3.15743059e-01\n -6.72615707e-01  3.82208377e-02  4.17263299e-01 -1.83885485e-01\n -2.43473519e-02  5.95068000e-02 -1.93601787e-01  2.25968417e-02\n  7.34443009e-01  1.72133625e-01  4.53380734e-01 -5.64390533e-02\n  3.32965851e-01  3.01337212e-01  1.10282671e+00 -6.07166708e-01\n  1.80552408e-01  7.76916891e-02  2.52779853e-02  1.52491093e-01\n -1.14265263e-01 -4.70552444e-02 -3.20858993e-02  2.32604876e-01\n  3.29865545e-01  5.14760800e-02  6.37153834e-02  1.13217935e-01\n  1.67319536e-01 -2.26570547e-01  4.03217494e-01 -2.21399128e-01\n  8.95959362e-02 -5.76904677e-02 -2.87655741e-01 -2.02951670e-01\n  3.25979479e-02  5.55148840e-01 -2.02529021e-02  2.17397898e-01\n -3.77236485e-01  6.54022515e-01  3.81015748e-01 -2.40825832e-01\n -4.65353549e-01  1.34250179e-01 -6.80848539e-01 -1.60267726e-01\n -2.15717867e-01 -4.20794636e-01  1.98087960e-01  6.37427643e-02\n  1.12319581e-01 -3.07392441e-02  6.87640727e-01 -2.04322353e-01\n  2.01920047e-01 -4.38216448e-01  3.39592695e-01  2.26395652e-01\n  8.01874578e-01  8.15460086e-01 -2.75302082e-01  2.11654201e-01\n -1.16919649e+00 -1.04688533e-01 -9.37177390e-02  1.65258467e-01].\nReshape your data either using array.reshape(-1, 1) if your data has a single feature or array.reshape(1, -1) if it contains a single sample.",
     "output_type": "error",
     "traceback": [
      "\u001b[0;31m---------------------------------------------------------------------------\u001b[0m",
      "\u001b[0;31mValueError\u001b[0m                                Traceback (most recent call last)",
      "\u001b[0;32m<ipython-input-25-d5d8b2f6f94b>\u001b[0m in \u001b[0;36m<module>\u001b[0;34m\u001b[0m\n\u001b[1;32m     16\u001b[0m                 \u001b[0mcv2\u001b[0m\u001b[0;34m.\u001b[0m\u001b[0mrectangle\u001b[0m\u001b[0;34m(\u001b[0m\u001b[0mframe\u001b[0m\u001b[0;34m,\u001b[0m \u001b[0;34m(\u001b[0m\u001b[0mbbox\u001b[0m\u001b[0;34m[\u001b[0m\u001b[0;36m0\u001b[0m\u001b[0;34m]\u001b[0m\u001b[0;34m,\u001b[0m \u001b[0mbbox\u001b[0m\u001b[0;34m[\u001b[0m\u001b[0;36m1\u001b[0m\u001b[0;34m]\u001b[0m\u001b[0;34m)\u001b[0m\u001b[0;34m,\u001b[0m \u001b[0;34m(\u001b[0m\u001b[0mbbox\u001b[0m\u001b[0;34m[\u001b[0m\u001b[0;36m2\u001b[0m\u001b[0;34m]\u001b[0m\u001b[0;34m,\u001b[0m \u001b[0mbbox\u001b[0m\u001b[0;34m[\u001b[0m\u001b[0;36m3\u001b[0m\u001b[0;34m]\u001b[0m\u001b[0;34m)\u001b[0m\u001b[0;34m,\u001b[0m \u001b[0;34m(\u001b[0m\u001b[0;36m255\u001b[0m\u001b[0;34m,\u001b[0m \u001b[0;36m0\u001b[0m\u001b[0;34m,\u001b[0m \u001b[0;36m0\u001b[0m\u001b[0;34m)\u001b[0m\u001b[0;34m,\u001b[0m \u001b[0;36m3\u001b[0m\u001b[0;34m)\u001b[0m\u001b[0;34m\u001b[0m\u001b[0;34m\u001b[0m\u001b[0m\n\u001b[1;32m     17\u001b[0m                 \u001b[0membedding\u001b[0m \u001b[0;34m=\u001b[0m \u001b[0mface\u001b[0m\u001b[0;34m.\u001b[0m\u001b[0membedding\u001b[0m\u001b[0;34m.\u001b[0m\u001b[0mastype\u001b[0m\u001b[0;34m(\u001b[0m\u001b[0mnp\u001b[0m\u001b[0;34m.\u001b[0m\u001b[0mfloat\u001b[0m\u001b[0;34m)\u001b[0m\u001b[0;34m.\u001b[0m\u001b[0mflatten\u001b[0m\u001b[0;34m(\u001b[0m\u001b[0;34m)\u001b[0m\u001b[0;34m\u001b[0m\u001b[0;34m\u001b[0m\u001b[0m\n\u001b[0;32m---> 18\u001b[0;31m                 \u001b[0mindex\u001b[0m \u001b[0;34m=\u001b[0m \u001b[0mface_tagger\u001b[0m\u001b[0;34m(\u001b[0m\u001b[0membedding\u001b[0m\u001b[0;34m)\u001b[0m\u001b[0;34m\u001b[0m\u001b[0;34m\u001b[0m\u001b[0m\n\u001b[0m\u001b[1;32m     19\u001b[0m                 \u001b[0mcv2\u001b[0m\u001b[0;34m.\u001b[0m\u001b[0mputText\u001b[0m\u001b[0;34m(\u001b[0m\u001b[0mframe\u001b[0m\u001b[0;34m,\u001b[0m \u001b[0mstr\u001b[0m\u001b[0;34m(\u001b[0m\u001b[0mindex\u001b[0m\u001b[0;34m)\u001b[0m\u001b[0;34m,\u001b[0m \u001b[0;34m(\u001b[0m\u001b[0mbbox\u001b[0m\u001b[0;34m[\u001b[0m\u001b[0;36m0\u001b[0m\u001b[0;34m]\u001b[0m \u001b[0;34m-\u001b[0m \u001b[0;36m20\u001b[0m\u001b[0;34m,\u001b[0m \u001b[0mbbox\u001b[0m\u001b[0;34m[\u001b[0m\u001b[0;36m1\u001b[0m\u001b[0;34m]\u001b[0m \u001b[0;34m-\u001b[0m \u001b[0;36m20\u001b[0m\u001b[0;34m)\u001b[0m\u001b[0;34m,\u001b[0m \u001b[0mfont\u001b[0m\u001b[0;34m,\u001b[0m \u001b[0;36m2\u001b[0m\u001b[0;34m,\u001b[0m \u001b[0;34m(\u001b[0m\u001b[0;36m255\u001b[0m\u001b[0;34m,\u001b[0m \u001b[0;36m0\u001b[0m\u001b[0;34m,\u001b[0m \u001b[0;36m0\u001b[0m\u001b[0;34m)\u001b[0m\u001b[0;34m,\u001b[0m \u001b[0;36m2\u001b[0m\u001b[0;34m,\u001b[0m \u001b[0mcv2\u001b[0m\u001b[0;34m.\u001b[0m\u001b[0mLINE_AA\u001b[0m\u001b[0;34m)\u001b[0m\u001b[0;34m\u001b[0m\u001b[0;34m\u001b[0m\u001b[0m\n\u001b[1;32m     20\u001b[0m             \u001b[0;31m# else:\u001b[0m\u001b[0;34m\u001b[0m\u001b[0;34m\u001b[0m\u001b[0;34m\u001b[0m\u001b[0m\n",
      "\u001b[0;32m<ipython-input-24-b92c6e4e8a17>\u001b[0m in \u001b[0;36mface_tagger\u001b[0;34m(face_vector)\u001b[0m\n\u001b[1;32m      9\u001b[0m     \u001b[0mmax_dist\u001b[0m \u001b[0;34m=\u001b[0m \u001b[0;34m-\u001b[0m\u001b[0;36m1\u001b[0m\u001b[0;34m\u001b[0m\u001b[0;34m\u001b[0m\u001b[0m\n\u001b[1;32m     10\u001b[0m     \u001b[0;32mfor\u001b[0m \u001b[0mi\u001b[0m \u001b[0;32min\u001b[0m \u001b[0mrange\u001b[0m\u001b[0;34m(\u001b[0m\u001b[0mlen\u001b[0m\u001b[0;34m(\u001b[0m\u001b[0mface_list\u001b[0m\u001b[0;34m)\u001b[0m\u001b[0;34m)\u001b[0m\u001b[0;34m:\u001b[0m\u001b[0;34m\u001b[0m\u001b[0;34m\u001b[0m\u001b[0m\n\u001b[0;32m---> 11\u001b[0;31m         \u001b[0mcurrent_dist\u001b[0m \u001b[0;34m=\u001b[0m \u001b[0mcosine_similarity\u001b[0m\u001b[0;34m(\u001b[0m\u001b[0mface_list\u001b[0m\u001b[0;34m[\u001b[0m\u001b[0mi\u001b[0m\u001b[0;34m]\u001b[0m\u001b[0;34m,\u001b[0m \u001b[0;34m[\u001b[0m\u001b[0mface_vector\u001b[0m\u001b[0;34m]\u001b[0m\u001b[0;34m)\u001b[0m\u001b[0;34m[\u001b[0m\u001b[0;36m0\u001b[0m\u001b[0;34m]\u001b[0m\u001b[0;34m\u001b[0m\u001b[0;34m\u001b[0m\u001b[0m\n\u001b[0m\u001b[1;32m     12\u001b[0m         \u001b[0;32mif\u001b[0m \u001b[0mcurrent_dist\u001b[0m \u001b[0;34m>\u001b[0m \u001b[0mmax_dist\u001b[0m\u001b[0;34m:\u001b[0m\u001b[0;34m\u001b[0m\u001b[0;34m\u001b[0m\u001b[0m\n\u001b[1;32m     13\u001b[0m             \u001b[0mmax_dist\u001b[0m \u001b[0;34m=\u001b[0m \u001b[0mcurrent_dist\u001b[0m\u001b[0;34m\u001b[0m\u001b[0;34m\u001b[0m\u001b[0m\n",
      "\u001b[0;32m/usr/local/lib/python3.6/dist-packages/sklearn/metrics/pairwise.py\u001b[0m in \u001b[0;36mcosine_similarity\u001b[0;34m(X, Y, dense_output)\u001b[0m\n\u001b[1;32m   1025\u001b[0m     \u001b[0;31m# to avoid recursive import\u001b[0m\u001b[0;34m\u001b[0m\u001b[0;34m\u001b[0m\u001b[0;34m\u001b[0m\u001b[0m\n\u001b[1;32m   1026\u001b[0m \u001b[0;34m\u001b[0m\u001b[0m\n\u001b[0;32m-> 1027\u001b[0;31m     \u001b[0mX\u001b[0m\u001b[0;34m,\u001b[0m \u001b[0mY\u001b[0m \u001b[0;34m=\u001b[0m \u001b[0mcheck_pairwise_arrays\u001b[0m\u001b[0;34m(\u001b[0m\u001b[0mX\u001b[0m\u001b[0;34m,\u001b[0m \u001b[0mY\u001b[0m\u001b[0;34m)\u001b[0m\u001b[0;34m\u001b[0m\u001b[0;34m\u001b[0m\u001b[0m\n\u001b[0m\u001b[1;32m   1028\u001b[0m \u001b[0;34m\u001b[0m\u001b[0m\n\u001b[1;32m   1029\u001b[0m     \u001b[0mX_normalized\u001b[0m \u001b[0;34m=\u001b[0m \u001b[0mnormalize\u001b[0m\u001b[0;34m(\u001b[0m\u001b[0mX\u001b[0m\u001b[0;34m,\u001b[0m \u001b[0mcopy\u001b[0m\u001b[0;34m=\u001b[0m\u001b[0;32mTrue\u001b[0m\u001b[0;34m)\u001b[0m\u001b[0;34m\u001b[0m\u001b[0;34m\u001b[0m\u001b[0m\n",
      "\u001b[0;32m/usr/local/lib/python3.6/dist-packages/sklearn/metrics/pairwise.py\u001b[0m in \u001b[0;36mcheck_pairwise_arrays\u001b[0;34m(X, Y, precomputed, dtype)\u001b[0m\n\u001b[1;32m    110\u001b[0m     \u001b[0;32melse\u001b[0m\u001b[0;34m:\u001b[0m\u001b[0;34m\u001b[0m\u001b[0;34m\u001b[0m\u001b[0m\n\u001b[1;32m    111\u001b[0m         X = check_array(X, accept_sparse='csr', dtype=dtype,\n\u001b[0;32m--> 112\u001b[0;31m                         estimator=estimator)\n\u001b[0m\u001b[1;32m    113\u001b[0m         Y = check_array(Y, accept_sparse='csr', dtype=dtype,\n\u001b[1;32m    114\u001b[0m                         estimator=estimator)\n",
      "\u001b[0;32m/usr/local/lib/python3.6/dist-packages/sklearn/utils/validation.py\u001b[0m in \u001b[0;36mcheck_array\u001b[0;34m(array, accept_sparse, accept_large_sparse, dtype, order, copy, force_all_finite, ensure_2d, allow_nd, ensure_min_samples, ensure_min_features, warn_on_dtype, estimator)\u001b[0m\n\u001b[1;32m    519\u001b[0m                     \u001b[0;34m\"Reshape your data either using array.reshape(-1, 1) if \"\u001b[0m\u001b[0;34m\u001b[0m\u001b[0;34m\u001b[0m\u001b[0m\n\u001b[1;32m    520\u001b[0m                     \u001b[0;34m\"your data has a single feature or array.reshape(1, -1) \"\u001b[0m\u001b[0;34m\u001b[0m\u001b[0;34m\u001b[0m\u001b[0m\n\u001b[0;32m--> 521\u001b[0;31m                     \"if it contains a single sample.\".format(array))\n\u001b[0m\u001b[1;32m    522\u001b[0m \u001b[0;34m\u001b[0m\u001b[0m\n\u001b[1;32m    523\u001b[0m         \u001b[0;31m# in the future np.flexible dtypes will be handled like object dtypes\u001b[0m\u001b[0;34m\u001b[0m\u001b[0;34m\u001b[0m\u001b[0;34m\u001b[0m\u001b[0m\n",
      "\u001b[0;31mValueError\u001b[0m: Expected 2D array, got 1D array instead:\narray=[-3.26959223e-01  6.87067747e-01  3.94089550e-01  5.07947132e-02\n -8.35412621e-01  1.02034599e-01  3.81974697e-01 -7.08948225e-02\n  8.69914949e-01  2.36705437e-01 -3.38939130e-01 -5.28084457e-01\n -4.79741991e-01  1.78914309e-01  1.04542829e-01 -7.23256394e-02\n -5.93884587e-01  4.03793544e-01 -3.43498170e-01 -1.59600854e-01\n -3.20078939e-01  1.83209285e-01 -1.98669076e-01  1.06141180e-01\n -1.97738469e-01  4.51026201e-01 -4.59874988e-01 -8.36340934e-02\n  5.84345162e-01 -2.97379166e-01  2.01182544e-01 -6.55476391e-01\n -4.59255069e-01  2.14174941e-01  1.56605095e-01  1.00872684e+00\n -3.85751247e-01  5.80046594e-01  1.39400721e-01 -2.27422282e-01\n -5.97222388e-01 -9.63216126e-02 -2.49296844e-01  1.86820582e-01\n  3.20102215e-01  1.04161784e-01 -2.70198405e-01  2.91778654e-01\n  5.56108132e-02 -6.93405345e-02 -3.39203745e-01 -7.37273574e-01\n  6.25839755e-02  5.24970114e-01 -4.07205880e-01  1.44179896e-01\n -3.68606597e-01  3.49231333e-01 -4.00490239e-02  1.87667370e-01\n  4.19825852e-01  6.88410938e-01 -1.25888139e-02 -1.93255723e-01\n  8.80825758e-01 -4.32428271e-01  3.78817469e-01  8.36760998e-01\n -9.67983678e-02 -6.29838631e-02 -4.15896535e-01 -4.89311785e-01\n -6.72813058e-02  5.89510687e-02  5.27677476e-01  2.77471334e-01\n -1.01485308e-02 -3.17952245e-01 -6.78982854e-01  2.40756020e-01\n -3.27902853e-01  1.92425385e-01  1.43842816e-01 -1.01324745e-01\n  1.88522384e-01 -6.52445376e-01  8.08896720e-01 -2.84942333e-02\n -5.12340128e-01 -4.03740019e-01  1.05429745e+00 -2.73414105e-02\n -5.75980365e-01 -2.95854270e-01  2.31648043e-01  2.54709691e-01\n  6.11182768e-05  4.87315774e-01  1.84873611e-01 -3.66242796e-01\n -2.13123083e-01  7.54595637e-01  6.03180587e-01 -2.96700418e-01\n  5.09091616e-01  1.71580672e-01  2.93871969e-01 -5.31977832e-01\n -1.77683786e-01 -1.08595407e+00  1.50141835e-01 -7.34970331e-01\n -4.70043123e-01 -1.12872899e+00  1.57073945e-01  3.75257164e-01\n  4.08024371e-01 -2.57295698e-01 -9.48363483e-01 -5.13862371e-02\n -2.44669225e-02  2.92110801e-01  1.03052512e-01 -8.33430052e-01\n -2.86211133e-01  2.35815942e-01 -1.39930159e-01  7.09060729e-02\n  7.22491682e-01 -4.55495536e-01  7.86959827e-02 -1.67359188e-01\n -3.41600031e-01 -2.08922639e-01 -4.22736332e-02  4.00735170e-01\n  5.45291901e-01  3.17239434e-01  1.14953443e-02 -2.20971033e-01\n  7.36840844e-01  4.82712686e-01 -1.06957458e-01  3.93335015e-01\n -2.21761331e-01 -1.76823705e-01 -1.03897917e+00  2.47459128e-01\n  8.35444629e-02 -3.34997058e-01  1.08433142e-01 -4.32697028e-01\n  3.84520292e-01 -3.79109353e-01 -3.09461713e-01  1.90438569e-01\n -9.62791741e-02 -3.73806685e-01  8.97506550e-02  5.33467591e-01\n -1.94639266e-01 -3.84057730e-01  1.15403414e-01  6.93939447e-01\n  1.70076877e-01  4.35431629e-01  4.02396284e-02 -5.01656711e-01\n -4.60564911e-01 -3.80505562e-01  4.52845663e-01  7.65099600e-02\n -5.96811116e-01  5.36664784e-01  9.66875907e-03  8.59812081e-01\n  8.68232071e-01 -5.02271811e-03  4.60584313e-01  9.16057378e-02\n  3.48128974e-01  6.69874191e-01  8.72535348e-01 -8.88809636e-02\n  5.06916285e-01  2.71538317e-01  9.48601067e-02 -2.92652100e-01\n -2.05378950e-01 -8.80359765e-03  5.48990779e-02  1.04518242e-01\n -1.22570626e-01 -3.14841680e-02 -1.70155734e-01  9.52586159e-02\n -5.88455915e-01 -2.24149421e-01 -2.97935516e-01  8.06109965e-01\n -5.29772103e-01 -1.33462563e-01  3.35137367e-01  4.93270397e-01\n  4.40145791e-01 -1.55119672e-01 -5.49188852e-02  5.42491414e-02\n -5.60355894e-02  2.80718297e-01  2.02424049e-01  1.96505591e-01\n -4.23028558e-01  5.87593531e-04  2.90967584e-01 -1.12044429e-02\n  5.68620205e-01 -2.35147059e-01  6.22026682e-01 -1.33832961e-01\n -2.98580796e-01  1.95547894e-01  1.54412508e-01  6.66020632e-01\n -5.31499088e-01  5.62551796e-01 -1.38287246e-01  3.54218543e-01\n  5.65961540e-01  5.02175212e-01 -3.07149857e-01  9.10722166e-02\n -4.88771737e-01 -1.66326344e-01 -1.77536637e-01 -2.12416664e-01\n  3.98111880e-01  8.00064206e-01  1.85241941e-02  3.56049180e-01\n  5.59621342e-02 -6.94940463e-02 -9.35467239e-03 -3.87111694e-01\n -4.61492807e-01  2.36544654e-01 -2.08553702e-01  1.49814934e-02\n -3.44915807e-01 -8.95205915e-01  6.29191697e-01 -1.68307826e-01\n -1.78060532e-01  4.08003032e-01  1.67429447e-01  3.04823637e-01\n  3.03311437e-01  6.26028478e-01 -7.11185396e-01 -1.50797084e-01\n -6.09273076e-01 -8.09176207e-01 -2.25635618e-02 -2.82199293e-01\n -4.60251659e-01 -1.82287022e-01 -2.73746431e-01 -5.15109658e-01\n  5.18101119e-02 -6.01964772e-01 -8.94079208e-01 -6.87950253e-01\n -6.55215800e-01  3.10265869e-01  8.15058351e-01 -1.73714519e-01\n -3.06748629e-01  3.19610476e-01 -4.15417522e-01  1.33838862e-01\n  1.02587398e-02  1.50890723e-01 -7.02023983e-01  3.91185850e-01\n -1.54731125e-01 -4.71874088e-01 -4.20694113e-01  2.96153724e-01\n  1.35620669e-01 -8.72317314e-01  1.08059622e-01 -1.96983472e-01\n -3.10052365e-01  1.25030339e-01  3.83800179e-01 -9.79071558e-01\n -3.48903030e-01 -5.90558946e-02 -5.29179834e-02 -2.10433885e-01\n -6.40978456e-01 -8.78105685e-02 -1.22279644e-01  5.47759891e-01\n  4.55172598e-01 -1.37060478e-01 -3.44934762e-01 -4.13204908e-01\n  1.64060518e-01  1.46214306e-01 -7.16974616e-01  3.32849659e-02\n  2.07880795e-01  6.35644495e-02  1.78102806e-01  8.29911679e-02\n  5.16767979e-01  2.51488775e-01  4.53262538e-01 -4.32105362e-01\n  2.59577334e-01  2.49915868e-01 -7.57004023e-01  5.36344111e-01\n -2.42536247e-01  2.81803071e-01 -3.86838794e-01 -4.78790581e-01\n -2.81407505e-01 -3.69491637e-01  3.27463418e-01  6.00376368e-01\n -4.23680954e-02 -4.25966233e-01  2.17845976e-01 -2.47330472e-01\n  6.72895491e-01  6.07393123e-02 -3.80006701e-01  8.47223178e-02\n  1.27095893e-01  3.27747196e-01  3.61113660e-02 -5.68790853e-01\n  7.30562270e-01  4.51788187e-01 -8.45931098e-02 -1.81769401e-01\n  2.75973678e-01  5.99102564e-02 -2.39419624e-01 -8.27543736e-02\n  2.91622896e-03  8.46924722e-01 -3.14581394e-01 -1.46311611e-01\n -5.59147656e-01 -1.41026855e-01 -8.21676776e-02 -8.25035155e-01\n  1.00396132e+00  9.98832762e-01 -8.19772840e-01  2.25207210e-01\n -3.46940100e-01  1.21355675e-01 -2.52120912e-01 -4.53706801e-01\n -2.02400640e-01 -9.03479695e-01  3.36168587e-01 -1.27268553e+00\n -3.35218698e-01  1.92204192e-01 -9.00273472e-02 -2.89821386e-01\n -2.86496997e-01 -3.85894090e-01 -6.30625039e-02  4.18453723e-01\n  7.22353041e-01  3.02699000e-01 -1.44155055e-01 -8.81472349e-01\n  8.87165248e-01  1.89533681e-02  5.86667396e-02 -1.62428901e-01\n  2.08175123e-01  4.14083540e-01  2.13944942e-01 -1.52230948e-01\n -4.42003757e-01 -3.18937182e-01  4.93628485e-03 -4.53038990e-01\n -2.73245692e-01  3.94041270e-01 -3.41124266e-01 -4.24364209e-01\n -4.33959752e-01  1.87853336e-01  1.43931106e-01 -8.14782828e-02\n -1.98317319e-01  3.80352348e-01 -5.84630556e-02  6.51288182e-02\n  5.74471414e-01  3.68679971e-01  5.42735338e-01  4.10263836e-01\n -7.29897916e-01 -1.51936725e-01  9.55614746e-02 -4.70479101e-01\n  1.63375303e-01 -7.87797511e-01  2.98915356e-01 -3.67889762e-01\n  1.07431851e-01  5.28297961e-01 -3.12954485e-01 -8.90762627e-01\n -5.48863530e-01  1.63915828e-01 -5.06192207e-01  6.92841783e-03\n -3.43746334e-01  3.48277301e-01  2.35230699e-01  7.15842620e-02\n  1.47712439e-01 -3.29930991e-01  3.32259923e-01  3.16989683e-02\n  1.39016002e-01 -1.62509367e-01 -1.97512329e-01 -8.67248654e-01\n  9.80147570e-02  4.47597384e-01 -3.90705228e-01  3.15743059e-01\n -6.72615707e-01  3.82208377e-02  4.17263299e-01 -1.83885485e-01\n -2.43473519e-02  5.95068000e-02 -1.93601787e-01  2.25968417e-02\n  7.34443009e-01  1.72133625e-01  4.53380734e-01 -5.64390533e-02\n  3.32965851e-01  3.01337212e-01  1.10282671e+00 -6.07166708e-01\n  1.80552408e-01  7.76916891e-02  2.52779853e-02  1.52491093e-01\n -1.14265263e-01 -4.70552444e-02 -3.20858993e-02  2.32604876e-01\n  3.29865545e-01  5.14760800e-02  6.37153834e-02  1.13217935e-01\n  1.67319536e-01 -2.26570547e-01  4.03217494e-01 -2.21399128e-01\n  8.95959362e-02 -5.76904677e-02 -2.87655741e-01 -2.02951670e-01\n  3.25979479e-02  5.55148840e-01 -2.02529021e-02  2.17397898e-01\n -3.77236485e-01  6.54022515e-01  3.81015748e-01 -2.40825832e-01\n -4.65353549e-01  1.34250179e-01 -6.80848539e-01 -1.60267726e-01\n -2.15717867e-01 -4.20794636e-01  1.98087960e-01  6.37427643e-02\n  1.12319581e-01 -3.07392441e-02  6.87640727e-01 -2.04322353e-01\n  2.01920047e-01 -4.38216448e-01  3.39592695e-01  2.26395652e-01\n  8.01874578e-01  8.15460086e-01 -2.75302082e-01  2.11654201e-01\n -1.16919649e+00 -1.04688533e-01 -9.37177390e-02  1.65258467e-01].\nReshape your data either using array.reshape(-1, 1) if your data has a single feature or array.reshape(1, -1) if it contains a single sample."
     ]
    }
   ],
   "source": [
    "frameNo = 0\n",
    "while(True):\n",
    "    print(frameNo)\n",
    "    ret, frame = cap.read()\n",
    "    cv2.rectangle(frame, (interest_zone_bbox[0][0], interest_zone_bbox[0][1]), (interest_zone_bbox[1][0], interest_zone_bbox[1][1]), (255, 0, 0), 3)\n",
    "    \n",
    "    if ret is True:\n",
    "        faces = model.get(frame)\n",
    "        for idx, face in enumerate(faces):\n",
    "            bbox = face.bbox.astype(np.int).flatten()\n",
    "            if not check_point_in_rect(interest_zone_bbox, [(bbox[0], bbox[1]), (bbox[2], bbox[3])]):\n",
    "                continue\n",
    "            p1, p2, bbox, euler_angles = est_head_pose(face, frame.shape)\n",
    "            \n",
    "            if face_filter(euler_angles):\n",
    "                cv2.rectangle(frame, (bbox[0], bbox[1]), (bbox[2], bbox[3]), (255, 0, 0), 3)\n",
    "                embedding = face.embedding.astype(np.float).flatten()\n",
    "                index = face_tagger(embedding)\n",
    "                cv2.putText(frame, str(index), (bbox[0] - 20, bbox[1] - 20), font, 2, (255, 0, 0), 2, cv2.LINE_AA)\n",
    "            # else:\n",
    "                # cv2.rectangle(frame, (bbox[0], bbox[1]), (bbox[2], bbox[3]), color, 3)\n",
    "            # cv2.line(frame, p1, p2, (255,0,0), 2)\n",
    "            # cv2.putText(frame, str(np.absolute(euler_angles.astype(int))), (bbox[0] - 20, bbox[1] - 20), font, 0.6, (255, 0, 0), 1, cv2.LINE_AA)\n",
    "        result.write(frame)\n",
    "        print('Face detected: ' + str(len(face_list)))\n",
    "        frameNo += 1\n",
    "        clear_output(wait=True)\n",
    "cap.release()\n",
    "result.release()\n",
    "print('Render completed!')"
   ]
  },
  {
   "cell_type": "code",
   "execution_count": null,
   "metadata": {},
   "outputs": [],
   "source": []
  }
 ],
 "metadata": {
  "kernelspec": {
   "display_name": "Python 3",
   "language": "python",
   "name": "python3"
  },
  "language_info": {
   "codemirror_mode": {
    "name": "ipython",
    "version": 3
   },
   "file_extension": ".py",
   "mimetype": "text/x-python",
   "name": "python",
   "nbconvert_exporter": "python",
   "pygments_lexer": "ipython3",
   "version": "3.6.9"
  }
 },
 "nbformat": 4,
 "nbformat_minor": 4
}
